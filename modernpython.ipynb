{
  "nbformat": 4,
  "nbformat_minor": 0,
  "metadata": {
    "colab": {
      "name": "modernpython.ipynb",
      "provenance": [],
      "authorship_tag": "ABX9TyNA57nv4PAmIU+Uwwx54FpK",
      "include_colab_link": true
    },
    "kernelspec": {
      "name": "python3",
      "display_name": "Python 3"
    },
    "language_info": {
      "name": "python"
    }
  },
  "cells": [
    {
      "cell_type": "markdown",
      "metadata": {
        "id": "view-in-github",
        "colab_type": "text"
      },
      "source": [
        "<a href=\"https://colab.research.google.com/github/clearnandtrain/modernpython/blob/main/modernpython.ipynb\" target=\"_parent\"><img src=\"https://colab.research.google.com/assets/colab-badge.svg\" alt=\"Open In Colab\"/></a>"
      ]
    },
    {
      "cell_type": "markdown",
      "metadata": {
        "id": "VnTqovW_8DnE"
      },
      "source": [
        "## Lesson 1: Building Fundational Python Skills for Data Analytics\n"
      ]
    },
    {
      "cell_type": "code",
      "metadata": {
        "id": "rt2mHfPAANZR",
        "outputId": "6738208f-0386-402b-fc08-17466def719a",
        "colab": {
          "base_uri": "https://localhost:8080/",
          "height": 69
        }
      },
      "source": [
        "'''\n",
        "Resampling\n",
        "=============\n",
        "\n",
        "Big Idea:       Statistics modeled in a program are easier to get right and\n",
        "                understand than using a formulaic approach. It also extends to\n",
        "                more complicated situation than classic formulas.\n",
        "\n",
        "Topics to Prepare for Resampling\n",
        "================================\n",
        "\n",
        "* F-strings\n",
        "* Counter(), most_common, elements\n",
        "* Statistics\n",
        "* Random:   seed gauss triangular evpovariate\n",
        "            choice choices sample shuffle\n",
        "* Review list concatentation, slicing, count/index, sorted()\n",
        "* Review lambda expressions and chained comparisons\n",
        "'''"
      ],
      "execution_count": 1,
      "outputs": [
        {
          "output_type": "execute_result",
          "data": {
            "application/vnd.google.colaboratory.intrinsic+json": {
              "type": "string"
            },
            "text/plain": [
              "'\\nResampling\\n=============\\n\\nBig Idea:       Statistics modeled in a program are easier to get right and\\n                understand than using a formulaic approach. It also extends to\\n                more complicated situation than classic formulas.\\n\\nTopics to Prepare for Resampling\\n================================\\n\\n* F-strings\\n* Counter(), most_common, elements\\n* Statistics\\n* Random:   seed gauss triangular evpovariate\\n            choice choices sample shuffle\\n* Review list concatentation, slicing, count/index, sorted()\\n* Review lambda expressions and chained comparisons\\n'"
            ]
          },
          "metadata": {},
          "execution_count": 1
        }
      ]
    },
    {
      "cell_type": "code",
      "metadata": {
        "id": "IBOhGNDWCM3v",
        "outputId": "66fb9925-c314-4d12-a089-41025a7e685f",
        "colab": {
          "base_uri": "https://localhost:8080/"
        }
      },
      "source": [
        "\n",
        "#   %-formatting    .format()   f''\n",
        "\n",
        "x = 10\n",
        "\n",
        "print('The answer is %d today' % 10)\n",
        "\n",
        "print('The answer is {0} today'.format(x))\n",
        "\n",
        "print('The answer is {x} today'.format(x=x))\n",
        "\n",
        "print(f'The answer is {x} today')\n",
        "\n",
        "print(f'The answer is {x :08d} today')"
      ],
      "execution_count": 2,
      "outputs": [
        {
          "output_type": "stream",
          "name": "stdout",
          "text": [
            "The answer is 10 today\n",
            "The answer is 10 today\n",
            "The answer is 10 today\n",
            "The answer is 10 today\n",
            "The answer is 00000010 today\n"
          ]
        }
      ]
    },
    {
      "cell_type": "code",
      "metadata": {
        "id": "com_bBh7D748"
      },
      "source": [
        "# Counter\n",
        "from collections import Counter"
      ],
      "execution_count": 3,
      "outputs": []
    },
    {
      "cell_type": "code",
      "metadata": {
        "id": "kar_HWJ9ES27"
      },
      "source": [
        "d = {}"
      ],
      "execution_count": 4,
      "outputs": []
    },
    {
      "cell_type": "code",
      "metadata": {
        "id": "Yw5qcVu0Ebd5",
        "outputId": "6e564b7a-94f1-46ab-cffd-d7dc4c7c4249",
        "colab": {
          "base_uri": "https://localhost:8080/",
          "height": 164
        }
      },
      "source": [
        "d['dragons']   # the dictionary is empty and so we will get an error, KeyError"
      ],
      "execution_count": 5,
      "outputs": [
        {
          "output_type": "error",
          "ename": "KeyError",
          "evalue": "ignored",
          "traceback": [
            "\u001b[0;31m---------------------------------------------------------------------------\u001b[0m",
            "\u001b[0;31mKeyError\u001b[0m                                  Traceback (most recent call last)",
            "\u001b[0;32m<ipython-input-5-c67452f26063>\u001b[0m in \u001b[0;36m<module>\u001b[0;34m()\u001b[0m\n\u001b[0;32m----> 1\u001b[0;31m \u001b[0md\u001b[0m\u001b[0;34m[\u001b[0m\u001b[0;34m'dragons'\u001b[0m\u001b[0;34m]\u001b[0m\u001b[0;34m\u001b[0m\u001b[0;34m\u001b[0m\u001b[0m\n\u001b[0m",
            "\u001b[0;31mKeyError\u001b[0m: 'dragons'"
          ]
        }
      ]
    },
    {
      "cell_type": "code",
      "metadata": {
        "id": "TheJcYO1EfMZ"
      },
      "source": [
        "d = Counter()      # Counter will give us zero versus a KeyErro"
      ],
      "execution_count": 6,
      "outputs": []
    },
    {
      "cell_type": "code",
      "metadata": {
        "id": "A6LbFIbEEmJJ",
        "outputId": "5ad3f959-36e0-4ebf-dda3-d34a5b7eb38a",
        "colab": {
          "base_uri": "https://localhost:8080/"
        }
      },
      "source": [
        "d['dragons']        # Empty dictionary but adding key 'dragons'"
      ],
      "execution_count": 7,
      "outputs": [
        {
          "output_type": "execute_result",
          "data": {
            "text/plain": [
              "0"
            ]
          },
          "metadata": {},
          "execution_count": 7
        }
      ]
    },
    {
      "cell_type": "code",
      "metadata": {
        "id": "M8CaKOJaEq6x"
      },
      "source": [
        "d['dragons'] += 1    # adding value 1 to dragon"
      ],
      "execution_count": 8,
      "outputs": []
    },
    {
      "cell_type": "code",
      "metadata": {
        "id": "XZjUFMZTE10b",
        "outputId": "5596d681-3d70-4a7e-f80a-5c0ee1ebe3ba",
        "colab": {
          "base_uri": "https://localhost:8080/"
        }
      },
      "source": [
        "d                     # Counter dictionary with key value pair"
      ],
      "execution_count": 9,
      "outputs": [
        {
          "output_type": "execute_result",
          "data": {
            "text/plain": [
              "Counter({'dragons': 1})"
            ]
          },
          "metadata": {},
          "execution_count": 9
        }
      ]
    },
    {
      "cell_type": "code",
      "metadata": {
        "id": "G7KiOiDpE2bp",
        "outputId": "0f07bd5e-1c9b-4a83-d16a-30b4a493b25b",
        "colab": {
          "base_uri": "https://localhost:8080/"
        }
      },
      "source": [
        "type(d)               # collections.Counter"
      ],
      "execution_count": 10,
      "outputs": [
        {
          "output_type": "execute_result",
          "data": {
            "text/plain": [
              "collections.Counter"
            ]
          },
          "metadata": {},
          "execution_count": 10
        }
      ]
    },
    {
      "cell_type": "code",
      "metadata": {
        "id": "KVaqBQdnGQaA",
        "outputId": "2fc33799-b6b5-43ed-cdee-5f5b7997ed17",
        "colab": {
          "base_uri": "https://localhost:8080/"
        }
      },
      "source": [
        "Counter('red green red blue red blue green'.split())"
      ],
      "execution_count": 11,
      "outputs": [
        {
          "output_type": "execute_result",
          "data": {
            "text/plain": [
              "Counter({'blue': 2, 'green': 2, 'red': 3})"
            ]
          },
          "metadata": {},
          "execution_count": 11
        }
      ]
    },
    {
      "cell_type": "code",
      "metadata": {
        "id": "7C1xHK-FGhUW"
      },
      "source": [
        "c = Counter('red green red blue red blue green'.split())"
      ],
      "execution_count": 12,
      "outputs": []
    },
    {
      "cell_type": "code",
      "metadata": {
        "id": "2YK0DplNGvb_",
        "outputId": "4d29fca1-7dcd-485c-95dc-6481a42e6682",
        "colab": {
          "base_uri": "https://localhost:8080/"
        }
      },
      "source": [
        "c.most_common(1)"
      ],
      "execution_count": 13,
      "outputs": [
        {
          "output_type": "execute_result",
          "data": {
            "text/plain": [
              "[('red', 3)]"
            ]
          },
          "metadata": {},
          "execution_count": 13
        }
      ]
    },
    {
      "cell_type": "code",
      "metadata": {
        "id": "lyhu90IUG5Ou",
        "outputId": "3cfc2de0-71f7-4a35-ab10-c8bebfb64fb6",
        "colab": {
          "base_uri": "https://localhost:8080/"
        }
      },
      "source": [
        "list(c.elements())"
      ],
      "execution_count": 14,
      "outputs": [
        {
          "output_type": "execute_result",
          "data": {
            "text/plain": [
              "['red', 'red', 'red', 'green', 'green', 'blue', 'blue']"
            ]
          },
          "metadata": {},
          "execution_count": 14
        }
      ]
    },
    {
      "cell_type": "code",
      "metadata": {
        "id": "8bMV0ZhOHN5G",
        "outputId": "9340b785-2842-4742-b8e1-c0a58ff77488",
        "colab": {
          "base_uri": "https://localhost:8080/"
        }
      },
      "source": [
        "list(c)"
      ],
      "execution_count": 15,
      "outputs": [
        {
          "output_type": "execute_result",
          "data": {
            "text/plain": [
              "['red', 'green', 'blue']"
            ]
          },
          "metadata": {},
          "execution_count": 15
        }
      ]
    },
    {
      "cell_type": "code",
      "metadata": {
        "id": "_doXnds8HQst",
        "outputId": "28c3b2ea-5b38-4b48-93eb-8a6cff1cee1a",
        "colab": {
          "base_uri": "https://localhost:8080/"
        }
      },
      "source": [
        "list(c.values())"
      ],
      "execution_count": 17,
      "outputs": [
        {
          "output_type": "execute_result",
          "data": {
            "text/plain": [
              "[3, 2, 2]"
            ]
          },
          "metadata": {},
          "execution_count": 17
        }
      ]
    },
    {
      "cell_type": "code",
      "metadata": {
        "id": "2Qa_wBisHTdf",
        "outputId": "a671df95-b1ea-4204-b79b-1060742902eb",
        "colab": {
          "base_uri": "https://localhost:8080/"
        }
      },
      "source": [
        "list(c.items())"
      ],
      "execution_count": 18,
      "outputs": [
        {
          "output_type": "execute_result",
          "data": {
            "text/plain": [
              "[('red', 3), ('green', 2), ('blue', 2)]"
            ]
          },
          "metadata": {},
          "execution_count": 18
        }
      ]
    },
    {
      "cell_type": "code",
      "metadata": {
        "id": "QSgxCrB5HdNH"
      },
      "source": [
        "from statistics import mean, median, mode, stdev, pstdev"
      ],
      "execution_count": 20,
      "outputs": []
    },
    {
      "cell_type": "code",
      "metadata": {
        "id": "7GX3zw1SHyFF"
      },
      "source": [
        ""
      ],
      "execution_count": null,
      "outputs": []
    }
  ]
}